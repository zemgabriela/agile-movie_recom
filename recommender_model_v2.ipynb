{
 "cells": [
  {
   "cell_type": "code",
   "execution_count": null,
   "metadata": {},
   "outputs": [],
   "source": [
    "import pandas as pd\n",
    "import numpy as np"
   ]
  },
  {
   "cell_type": "markdown",
   "metadata": {},
   "source": [
    "## Data importation and understanding"
   ]
  },
  {
   "cell_type": "code",
   "execution_count": null,
   "metadata": {},
   "outputs": [],
   "source": [
    "movies_df = pd.read_csv('ml-latest-small/movies.csv', sep=',', names=['item_id', 'title', 'genres'], engine='python',skiprows=1)\n",
    "tags_df = pd.read_csv('ml-latest-small/tags.csv', sep=',', names=['user_id', 'item_id', 'tag', 'timestamp'], engine='python',skiprows=1)\n",
    "ratings_df = pd.read_csv('ml-latest-small/ratings.csv', sep=',', names=['user_id', 'item_id', 'rating', 'timestamp'], engine='python',skiprows=1)"
   ]
  },
  {
   "cell_type": "markdown",
   "metadata": {},
   "source": [
    "The MovieLens dataset is a widely-used dataset for movie recommendation systems, collected by the GroupLens research group at the University of Minnesota. It consists of multiple tables containing data about movies, ratings, and tags provided by users. Here’s a description of each table and its variables:"
   ]
  },
  {
   "cell_type": "markdown",
   "metadata": {},
   "source": [
    "### movies_df\n",
    "- **item_id**: Unique identifier for movies.\n",
    "- **title**: The title of the movie, typically containing the release year in parentheses.\n",
    "- **genres**: A pipe-separated list of genres associated with the movie.\n",
    "\n",
    "This DataFrame contains metadata about the movies. Each movie is identified by a unique ID and has associated attributes like the title and the list of genres it belongs to. The genres are categorical and are typically used to filter or describe the content of the movie."
   ]
  },
  {
   "cell_type": "code",
   "execution_count": null,
   "metadata": {},
   "outputs": [
    {
     "name": "stdout",
     "output_type": "stream",
     "text": [
      "<class 'pandas.core.frame.DataFrame'>\n",
      "RangeIndex: 9742 entries, 0 to 9741\n",
      "Data columns (total 3 columns):\n",
      " #   Column   Non-Null Count  Dtype \n",
      "---  ------   --------------  ----- \n",
      " 0   item_id  9742 non-null   int64 \n",
      " 1   title    9742 non-null   object\n",
      " 2   genres   9742 non-null   object\n",
      "dtypes: int64(1), object(2)\n",
      "memory usage: 228.5+ KB\n"
     ]
    }
   ],
   "source": [
    "movies_df.info()"
   ]
  },
  {
   "cell_type": "markdown",
   "metadata": {},
   "source": [
    "### tags_df\n",
    "- **user_id**: Unique identifier for users.\n",
    "- **item_id**: Unique identifier for movies which corresponds to `item_id` in `movies_df`.\n",
    "- **tag**: Textual tag provided by the user for a movie. These can be descriptive words or short phrases.\n",
    "- **timestamp**: The timestamp when the tag was provided. This is typically a Unix time stamp and indicates when the user tagged the movie.\n",
    "\n",
    "The `tags_df` table contains user-generated metadata for the movies. Each row indicates that a particular user has tagged a movie with a textual descriptor. These tags can be used for content-based filtering or to enhance the information about a movie beyond its genres."
   ]
  },
  {
   "cell_type": "code",
   "execution_count": null,
   "metadata": {},
   "outputs": [
    {
     "name": "stdout",
     "output_type": "stream",
     "text": [
      "<class 'pandas.core.frame.DataFrame'>\n",
      "RangeIndex: 3683 entries, 0 to 3682\n",
      "Data columns (total 4 columns):\n",
      " #   Column     Non-Null Count  Dtype \n",
      "---  ------     --------------  ----- \n",
      " 0   user_id    3683 non-null   int64 \n",
      " 1   item_id    3683 non-null   int64 \n",
      " 2   tag        3683 non-null   object\n",
      " 3   timestamp  3683 non-null   int64 \n",
      "dtypes: int64(3), object(1)\n",
      "memory usage: 115.2+ KB\n"
     ]
    }
   ],
   "source": [
    "tags_df.info()"
   ]
  },
  {
   "cell_type": "markdown",
   "metadata": {},
   "source": [
    "### ratings_df\n",
    "- **user_id**: Unique identifier for users, which corresponds to `user_id` in `tags_df`.\n",
    "- **item_id**: Unique identifier for movies, consistent with `item_id` in both `movies_df` and `tags_df`.\n",
    "- **rating**: The rating given to a movie by a user. This is typically on a defined scale, like 0.5 to 5 stars.\n",
    "- **timestamp**: The timestamp when the rating was provided, in the same format as in `tags_df`.\n",
    "\n",
    "The `ratings_df` table is a record of user ratings for movies. Each row documents that a user has assigned a numerical rating to a movie. This is the core data used in collaborative filtering for recommendation systems."
   ]
  },
  {
   "cell_type": "code",
   "execution_count": null,
   "metadata": {},
   "outputs": [
    {
     "name": "stdout",
     "output_type": "stream",
     "text": [
      "<class 'pandas.core.frame.DataFrame'>\n",
      "RangeIndex: 100836 entries, 0 to 100835\n",
      "Data columns (total 4 columns):\n",
      " #   Column     Non-Null Count   Dtype  \n",
      "---  ------     --------------   -----  \n",
      " 0   user_id    100836 non-null  int64  \n",
      " 1   item_id    100836 non-null  int64  \n",
      " 2   rating     100836 non-null  float64\n",
      " 3   timestamp  100836 non-null  int64  \n",
      "dtypes: float64(1), int64(3)\n",
      "memory usage: 3.1 MB\n"
     ]
    }
   ],
   "source": [
    "ratings_df.info()"
   ]
  },
  {
   "cell_type": "markdown",
   "metadata": {},
   "source": [
    "When using these tables for building a recommendation system, one usually starts with the `ratings_df` to build the utility matrix that relates users to movies through the ratings they've provided. `movies_df` can be used to provide readable movie titles and genres for recommendations, and `tags_df` can add additional context for the movies or for more sophisticated recommendation systems that also use content-based filtering methods."
   ]
  },
  {
   "cell_type": "markdown",
   "metadata": {},
   "source": [
    "## Exploring the data"
   ]
  },
  {
   "cell_type": "code",
   "execution_count": null,
   "metadata": {},
   "outputs": [
    {
     "name": "stdout",
     "output_type": "stream",
     "text": [
      "Unique movies: 9742\n",
      "Unique users in ratings: 610\n",
      "Unique movies in ratings: 9724\n",
      "Unique users in tags: 58\n",
      "Unique movies in tags: 1572\n",
      "Unique tags: 1589\n"
     ]
    }
   ],
   "source": [
    "# For movies_df to count unique movies\n",
    "unique_movies = movies_df['item_id'].nunique()\n",
    "print(f'Unique movies: {unique_movies}')\n",
    "\n",
    "# For ratings_df to count unique users and movies\n",
    "unique_users_ratings = ratings_df['user_id'].nunique()\n",
    "unique_movies_ratings = ratings_df['item_id'].nunique()\n",
    "print(f'Unique users in ratings: {unique_users_ratings}')\n",
    "print(f'Unique movies in ratings: {unique_movies_ratings}')\n",
    "\n",
    "# For tags_df to count unique users, movies, and tags\n",
    "unique_users_tags = tags_df['user_id'].nunique()\n",
    "unique_movies_tags = tags_df['item_id'].nunique()\n",
    "unique_tags = tags_df['tag'].nunique()\n",
    "print(f'Unique users in tags: {unique_users_tags}')\n",
    "print(f'Unique movies in tags: {unique_movies_tags}')\n",
    "print(f'Unique tags: {unique_tags}')"
   ]
  },
  {
   "cell_type": "markdown",
   "metadata": {},
   "source": [
    "## Small preprocess"
   ]
  },
  {
   "cell_type": "markdown",
   "metadata": {},
   "source": [
    "We first transform the columns in the table `ratings_df` to *int32*, as the recommender model needs this adaptation"
   ]
  },
  {
   "cell_type": "code",
   "execution_count": null,
   "metadata": {},
   "outputs": [],
   "source": [
    "ratings_df['user_id']=ratings_df['user_id'].astype('int32')\n",
    "ratings_df['item_id']=ratings_df['item_id'].astype('int32')\n",
    "ratings_df['timestamp']=ratings_df['timestamp'].astype('int32') #It is required by the model"
   ]
  },
  {
   "cell_type": "markdown",
   "metadata": {},
   "source": [
    "We split the title of the movies in the `movies_df`, creating another column for the year of the film.\n",
    "\n",
    "After that, we will get rid of the characters ', The', which are at the last part of some titles."
   ]
  },
  {
   "cell_type": "code",
   "execution_count": null,
   "metadata": {},
   "outputs": [],
   "source": [
    "movies_df['year'] = movies_df['title'].str.extract(r'\\((\\d{4}(?:–\\d{4})?)\\)')  # Extracting the year or year range into a new column\n",
    "movies_df['year'] = movies_df['year'].where(movies_df['year'].str.len() == 4, None)  # Set to None if not a single year\n",
    "movies_df['title'] = movies_df['title'].str.replace(r'\\(\\d{4}(?:–\\d{4})?\\)', '', regex=True).str.strip()  # Removing the year from the title\n",
    "\n",
    "movies_df['title']=movies_df['title'].str.replace(', The', '')\n",
    "movies_df['genres']=movies_df['genres'].str.replace('|',', ')"
   ]
  },
  {
   "cell_type": "code",
   "execution_count": null,
   "metadata": {},
   "outputs": [
    {
     "name": "stdout",
     "output_type": "stream",
     "text": [
      "      item_id                               title  \\\n",
      "0           1                           Toy Story   \n",
      "1           2                             Jumanji   \n",
      "2           3                    Grumpier Old Men   \n",
      "3           4                   Waiting to Exhale   \n",
      "4           5         Father of the Bride Part II   \n",
      "...       ...                                 ...   \n",
      "9737   193581  Black Butler: Book of the Atlantic   \n",
      "9738   193583               No Game No Life: Zero   \n",
      "9739   193585                               Flint   \n",
      "9740   193587        Bungo Stray Dogs: Dead Apple   \n",
      "9741   193609        Andrew Dice Clay: Dice Rules   \n",
      "\n",
      "                                               genres  year  \n",
      "0     Adventure, Animation, Children, Comedy, Fantasy  1995  \n",
      "1                        Adventure, Children, Fantasy  1995  \n",
      "2                                     Comedy, Romance  1995  \n",
      "3                              Comedy, Drama, Romance  1995  \n",
      "4                                              Comedy  1995  \n",
      "...                                               ...   ...  \n",
      "9737               Action, Animation, Comedy, Fantasy  2017  \n",
      "9738                       Animation, Comedy, Fantasy  2017  \n",
      "9739                                            Drama  2017  \n",
      "9740                                Action, Animation  2018  \n",
      "9741                                           Comedy  1991  \n",
      "\n",
      "[9742 rows x 4 columns]\n"
     ]
    }
   ],
   "source": [
    "from imdb import IMDb\n",
    "\n",
    "na_rows = movies_df['year'].isna()\n",
    "\n",
    "ia = IMDb()\n",
    "\n",
    "def get_movie_year(title):\n",
    "    try:\n",
    "        movie = ia.search_movie(title)[0]\n",
    "        return movie['year']\n",
    "    except Exception as e:\n",
    "        print(f\"Error fetching year for '{title}': {e}\")\n",
    "        return None\n",
    "\n",
    "# Apply the function to the dataframe\n",
    "movies_df.loc[na_rows,'year'] = movies_df.loc[na_rows,'title'].apply(get_movie_year)\n",
    "\n",
    "movies_df['year'] = movies_df['year'].astype(int)\n",
    "print(movies_df)"
   ]
  },
  {
   "cell_type": "markdown",
   "metadata": {},
   "source": [
    "## Implementing the recommender"
   ]
  },
  {
   "cell_type": "markdown",
   "metadata": {},
   "source": [
    "Here's a brief explanation of some common hyperparameters for factorization models and a suggested grid for searching:\n",
    "\n",
    "1. **n_iter**: The number of epochs to run when training the model. More epochs could lead to better performance but also increase the risk of overfitting and computational time.\n",
    "   - Suggested grid: `[1, 5, 10, 20]`\n",
    "\n",
    "2. **embedding_dim**: The size of the latent feature vectors for users and items. Larger dimensions could capture more complex patterns but might overfit.\n",
    "   - Suggested grid: `[8, 16, 32, 64]`\n",
    "\n",
    "3. **learning_rate**: The step size at each iteration of the optimization algorithm. A smaller learning rate could lead to more precise convergence but might require more epochs.\n",
    "   - Suggested grid: `[0.001, 0.01, 0.1]`\n",
    "\n",
    "4. **l2**: The L2 regularization penalty. Higher values could prevent overfitting but might lead to underfitting if too large.\n",
    "   - Suggested grid: `[0.0, 1e-6, 1e-5, 1e-3]`\n",
    "\n",
    "5. **loss**: The loss function to be used. Common options are `pointwise`, `bpr`, or `hinge` loss, which are suitable for different types of recommendation tasks.\n",
    "   - Suggested values: `['pointwise', 'bpr', 'hinge']`\n",
    "\n",
    "6. **batch_size**: The number of samples per gradient update. Larger batches provide more accurate estimates of the gradient, but smaller batches might help the model to generalize better.\n",
    "   - Suggested grid: `[32, 64, 128, 256]`\n"
   ]
  },
  {
   "cell_type": "markdown",
   "metadata": {},
   "source": [
    "### Training the model"
   ]
  },
  {
   "cell_type": "code",
   "execution_count": null,
   "metadata": {},
   "outputs": [
    {
     "name": "stdout",
     "output_type": "stream",
     "text": [
      "Epoch 0: loss 4.224278883362341\n",
      "Epoch 1: loss 0.8214049972551845\n",
      "Epoch 2: loss 0.5264862054814858\n",
      "Epoch 3: loss 0.3726893660714355\n",
      "Epoch 4: loss 0.29536568744777913\n"
     ]
    }
   ],
   "source": [
    "from spotlight.interactions import Interactions\n",
    "from spotlight.factorization.explicit import ExplicitFactorizationModel\n",
    "from spotlight.cross_validation import random_train_test_split\n",
    "\n",
    "# Step 2: Create the Interactions object\n",
    "interaction_data = Interactions(\n",
    "    user_ids=ratings_df['user_id'].values,\n",
    "    item_ids=ratings_df['item_id'].values,\n",
    "    ratings=ratings_df['rating'].values,\n",
    "    timestamps=ratings_df['timestamp'].values\n",
    ")\n",
    "\n",
    "# Split the interaction data into training and test sets\n",
    "train, test = random_train_test_split(interaction_data)\n",
    "\n",
    "# Initialize the model\n",
    "model = ExplicitFactorizationModel(\n",
    "    n_iter=5,           # Number of epochs of training\n",
    "    embedding_dim=32,   # Latent factors (embedding size)\n",
    "    use_cuda=False      # If you have a CUDA capable GPU, set to True to speed up training\n",
    ")\n",
    "\n",
    "# Fit the model on the training data\n",
    "model.fit(train, verbose=True)"
   ]
  },
  {
   "cell_type": "code",
   "execution_count": null,
   "metadata": {},
   "outputs": [],
   "source": [
    "from joblib import dump, load\n",
    "\n",
    "#dump(model, 'model.pkl')\n",
    "\n",
    "model = load('model.pkl')\n"
   ]
  },
  {
   "cell_type": "code",
   "execution_count": null,
   "metadata": {},
   "outputs": [],
   "source": [
    "from spotlight.evaluation import rmse_score\n",
    "\n",
    "train_rmse = rmse_score(model, train)\n",
    "test_rmse = rmse_score(model, test)\n",
    "\n",
    "print('Train RMSE {:.3f}, test RMSE {:.3f}'.format(train_rmse, test_rmse))"
   ]
  },
  {
   "cell_type": "markdown",
   "metadata": {},
   "source": [
    "### R1: Community recommender"
   ]
  },
  {
   "cell_type": "markdown",
   "metadata": {},
   "source": [
    "Given a tag, a list of popular tags and a number of films (n), it returns the most *n* recommended films (ordered by rating) in the tag provided.\n",
    "\n",
    "If the tag is not in the popular tags list, it returns an error."
   ]
  },
  {
   "cell_type": "code",
   "execution_count": null,
   "metadata": {},
   "outputs": [
    {
     "data": {
      "text/plain": [
       "tag\n",
       "In Netflix queue     131\n",
       "atmospheric           36\n",
       "thought-provoking     24\n",
       "superhero             24\n",
       "funny                 23\n",
       "Name: count, dtype: int64"
      ]
     },
     "execution_count": 17,
     "metadata": {},
     "output_type": "execute_result"
    }
   ],
   "source": [
    "# We first filter popular tags, which have more than 15 users\n",
    "counter_tag= tags_df['tag'].value_counts()\n",
    "popular_tag = counter_tag[counter_tag > 15]\n",
    "popular_tag.head()"
   ]
  },
  {
   "cell_type": "code",
   "execution_count": null,
   "metadata": {},
   "outputs": [],
   "source": [
    "def community_recommender(tag, popular_tag, n, genre=None):\n",
    "    popular_tag = [t.lower() for t in popular_tag.index] \n",
    "    tag = tag.lower()  # convert everything to lower case\n",
    "    if tag in popular_tag:\n",
    "        movie_filtered_by_tag = tags_df[tags_df['tag'].str.lower() == tag]\n",
    "        movie_list = movie_filtered_by_tag['item_id']  # we extract here the movies that have this tag\n",
    "        movies_filtered = ratings_df[ratings_df['item_id'].isin(movie_list)].groupby(['item_id'])['rating'].mean().reset_index()  # here we focus on those movies and then we extract the mean rating.\n",
    "        \n",
    "        # If genre filtering is enabled, filter the movies_df first\n",
    "        if genre:\n",
    "            movies_df_filtered_by_genre = movies_df[movies_df['genres'].str.contains(genre, case=False, na=False)]\n",
    "            movies_filtered = movies_filtered[movies_filtered['item_id'].isin(movies_df_filtered_by_genre['item_id'])]\n",
    "        \n",
    "        movies_filtered.sort_values(by='rating', ascending=False, inplace=True)  # we sort them \n",
    "        top_movie_ids = movies_filtered.head(n)['item_id']  # here we extract the first n movies\n",
    "        recommended_movies = movies_df[movies_df['item_id'].isin(top_movie_ids)]['title'].values.tolist()  # we extract the movies with that id\n",
    "        return recommended_movies\n",
    "    else:\n",
    "        return 'No matches based on your research'"
   ]
  },
  {
   "cell_type": "code",
   "execution_count": null,
   "metadata": {},
   "outputs": [
    {
     "name": "stdout",
     "output_type": "stream",
     "text": [
      "Pulp Fiction\n"
     ]
    }
   ],
   "source": [
    "print(\"\\n\".join(community_recommender('suspense',popular_tag,10, genre='Comedy'))) #Example of how to use it."
   ]
  },
  {
   "cell_type": "markdown",
   "metadata": {},
   "source": [
    "### R2: Rating prediction given a user and a movie"
   ]
  },
  {
   "cell_type": "markdown",
   "metadata": {},
   "source": [
    "Given a user_id and a movie_title, it predicts the rating for the given movie and user."
   ]
  },
  {
   "cell_type": "code",
   "execution_count": null,
   "metadata": {},
   "outputs": [
    {
     "name": "stdout",
     "output_type": "stream",
     "text": [
      "Predicted rating for user 1 and movie 'Silence of the Lambs': 4.287411689758301\n"
     ]
    }
   ],
   "source": [
    "def predict_rating_for_user_and_movie(model, user_id, movie_title, movies_df):\n",
    "    # Predict scores for all items for the user\n",
    "    pred = model.predict(user_ids=np.array([user_id]))\n",
    "\n",
    "    # Get the movie indices sorted by predicted rating\n",
    "    sorted_indices = np.argsort(pred)[::-1]\n",
    "\n",
    "    # Find the movie ID corresponding to the given movie title\n",
    "    movie_row = movies_df[movies_df['title'] == movie_title]\n",
    "    if movie_row.empty:\n",
    "        return \"Movie title not found.\"\n",
    "\n",
    "    movie_id = movie_row['item_id'].iloc[0]\n",
    "\n",
    "    # Get the sorted index for this movie ID\n",
    "    sorted_index = np.where(sorted_indices == movie_id)[0][0]\n",
    "\n",
    "    # Get the predicted rating for the movie\n",
    "    predicted_rating = pred[sorted_indices[sorted_index]]\n",
    "\n",
    "    return predicted_rating\n",
    "\n",
    "# Example usage\n",
    "user_id = 1  # replace with the user ID\n",
    "movie_title = \"Silence of the Lambs\"  # replace with the movie title\n",
    "predicted_rating = predict_rating_for_user_and_movie(model, user_id, movie_title, movies_df)\n",
    "print(f\"Predicted rating for user {user_id} and movie '{movie_title}': {predicted_rating}\")\n"
   ]
  },
  {
   "cell_type": "markdown",
   "metadata": {},
   "source": [
    "### R3: N recommended movies given a user"
   ]
  },
  {
   "cell_type": "markdown",
   "metadata": {},
   "source": [
    "Given a user_id and number of recommendations (n), it returns the *n* recommended movies for that user.\n",
    "We also filter by year and genre"
   ]
  },
  {
   "cell_type": "code",
   "execution_count": null,
   "metadata": {},
   "outputs": [],
   "source": [
    "def recommended_movies_by_user(model, user_id, n_movies, movies_df, genres=None, start_year=None, end_year=None):\n",
    "    # Apply genre/year filters before making predictions\n",
    "    if genres is not None:\n",
    "        filter_condition = lambda x: any(genre.lower() in x.lower() for genre in genres)\n",
    "        movies_df = movies_df[movies_df['genres'].apply(filter_condition)]\n",
    "    if start_year is not None:\n",
    "        if end_year is not None:\n",
    "            movies_df = movies_df[(movies_df['year'] >= start_year) & (movies_df['year'] <= end_year)]\n",
    "        else:\n",
    "            movies_df = movies_df[movies_df['year'] >= start_year]\n",
    "\n",
    "    # Now predict scores for the (optionally) filtered items for the user\n",
    "    filtered_movie_ids = movies_df['item_id'].values\n",
    "    pred = model.predict(user_ids=np.array([user_id]*len(filtered_movie_ids)), item_ids=filtered_movie_ids)\n",
    "\n",
    "    # Sort predicted ratings in descending order\n",
    "    sorted_indices = np.argsort(pred)[::-1]\n",
    "    #print(len(sorted_indices))\n",
    "    # Select the top n_movies\n",
    "    top_indices = sorted_indices[:n_movies]\n",
    "    recommended_movies = movies_df.iloc[top_indices]['title'].tolist()\n",
    "    predicted_ratings = pred[top_indices]\n",
    "\n",
    "    return recommended_movies, predicted_ratings"
   ]
  },
  {
   "cell_type": "markdown",
   "metadata": {},
   "source": [
    "We have the following unique genres"
   ]
  },
  {
   "cell_type": "code",
   "execution_count": null,
   "metadata": {},
   "outputs": [],
   "source": [
    "unique_genres=['Action', 'Adventure', 'Animation',\n",
    "       'Children', 'Comedy', 'Crime', 'Documentary', 'Drama', 'Fantasy',\n",
    "       'Film-Noir', 'Horror', 'IMAX', 'Musical', 'Mystery', 'Romance',\n",
    "       'Sci-Fi', 'Thriller', 'War', 'Western'] "
   ]
  },
  {
   "cell_type": "code",
   "execution_count": null,
   "metadata": {},
   "outputs": [
    {
     "name": "stdout",
     "output_type": "stream",
     "text": [
      "1902 2018\n"
     ]
    }
   ],
   "source": [
    "min_year=movies_df['year'].min()\n",
    "max_year=movies_df['year'].max()\n",
    "print(min_year,max_year)"
   ]
  },
  {
   "cell_type": "code",
   "execution_count": null,
   "metadata": {},
   "outputs": [],
   "source": [
    "years=np.unique(movies_df['year'])"
   ]
  },
  {
   "cell_type": "code",
   "execution_count": null,
   "metadata": {},
   "outputs": [
    {
     "data": {
      "text/plain": [
       "(['Heat',\n",
       "  'Sherlock Holmes: A Game of Shadows',\n",
       "  'Day of the Doctor',\n",
       "  'Jack Reacher',\n",
       "  'The Man from U.N.C.L.E.',\n",
       "  'Star Trek Beyond',\n",
       "  'Knight and Day',\n",
       "  'Black Panther',\n",
       "  'Other Guys',\n",
       "  'Dredd'],\n",
       " array([5.7866364, 5.7554164, 5.6918683, 5.5916624, 5.5496798, 5.520312 ,\n",
       "        5.5181866, 5.4266315, 5.3701644, 5.367329 ], dtype=float32))"
      ]
     },
     "execution_count": 60,
     "metadata": {},
     "output_type": "execute_result"
    }
   ],
   "source": [
    "recommended_movies_by_user(model=model, user_id=1, n_movies=10, genres=['Action','Adventure'],movies_df=movies_df, start_year=2010)"
   ]
  },
  {
   "cell_type": "markdown",
   "metadata": {},
   "source": [
    "### R4: N recommended movies for unseen users"
   ]
  },
  {
   "cell_type": "markdown",
   "metadata": {},
   "source": [
    "Given a list of movies the user has seen and like, it returns the *n* movies most recommended, similar to the movies the user pass."
   ]
  },
  {
   "cell_type": "markdown",
   "metadata": {},
   "source": [
    "For that, we need another model which takes as input a list of movies, rather than a user_id."
   ]
  },
  {
   "cell_type": "code",
   "execution_count": null,
   "metadata": {},
   "outputs": [],
   "source": [
    "from spotlight.sequence.implicit import ImplicitSequenceModel\n",
    "from spotlight.cross_validation import user_based_train_test_split\n",
    "\n",
    "train, test = user_based_train_test_split(interaction_data)\n",
    "\n",
    "train = train.to_sequence()\n",
    "test = test.to_sequence()\n",
    "model_seq = ImplicitSequenceModel(n_iter=5,\n",
    "                                  representation='cnn',\n",
    "                                  loss='bpr')\n",
    "model_seq.fit(train)"
   ]
  },
  {
   "cell_type": "code",
   "execution_count": null,
   "metadata": {},
   "outputs": [],
   "source": [
    "def recommend_next_movies(list_of_movies, model, n_movies, genre=None):\n",
    "    # We first check if the titles are in the movie list and remove the ones that are not present.\n",
    "    # We also convert the titles in order to avoid case sensitivity (e.g., 'Spiderman' vs. 'spiderman').\n",
    "    list_of_movies = [title.lower() for title in list_of_movies]\n",
    "    list_of_movies = [title for title in list_of_movies if title in movies_df['title'].str.lower().tolist()]\n",
    "    if not list_of_movies:  # Check if it is empty.\n",
    "        return 'The list of films provided is not in the catalogue'\n",
    "    # Get the indices for the movies.\n",
    "    indices_movies = movies_df[movies_df['title'].str.lower().isin(list_of_movies)]['item_id']\n",
    "    # Predict the next movies.\n",
    "    pred = model.predict(sequences=np.array(indices_movies))\n",
    "    sorted_indices = np.argsort(pred)[::-1]\n",
    "    \n",
    "    # Filter out the movies that have already been seen\n",
    "    sorted_indices = [idx for idx in sorted_indices if idx not in indices_movies.values]\n",
    "    \n",
    "    # Apply genre filtering if genre is specified.\n",
    "    if genre:\n",
    "        genre_mask = movies_df['genres'].str.contains(genre, case=False, na=False)\n",
    "        # Use the mask to filter indices\n",
    "        filtered_indices = genre_mask.index[genre_mask].intersection(sorted_indices)\n",
    "        # Get the top n_movies indices from the filtered list\n",
    "        top_indices = filtered_indices[:n_movies]\n",
    "    else:\n",
    "        # If no genre filter is applied, simply take the top n_movies indices\n",
    "        top_indices = sorted_indices[:n_movies]\n",
    "        \n",
    "    # Get the recommended movie titles.\n",
    "    recommended_movies = movies_df[movies_df['item_id'].isin(top_indices)]['title'].values.tolist()\n",
    "\n",
    "    return recommended_movies\n"
   ]
  },
  {
   "cell_type": "code",
   "execution_count": null,
   "metadata": {},
   "outputs": [
    {
     "data": {
      "text/plain": [
       "['Jumanji', 'Grumpier Old Men', 'Waiting to Exhale', 'Heat']"
      ]
     },
     "execution_count": 251,
     "metadata": {},
     "output_type": "execute_result"
    }
   ],
   "source": [
    "list_movies = ['Silence of the Lambs', 'Pulp Fiction', 'Flirting With Disaster','Amateur','Scream']\n",
    "\n",
    "recommend_next_movies(list_movies, model_seq, 5, genre='Comedy')"
   ]
  },
  {
   "cell_type": "code",
   "execution_count": null,
   "metadata": {},
   "outputs": [],
   "source": [
    "import pandas as pd\n",
    "import numpy as np\n",
    "from spotlight.sequence.implicit import ImplicitSequenceModel\n",
    "from spotlight.sequence.representations import CNNNet\n",
    "from spotlight.cross_validation import random_train_test_split\n",
    "from spotlight.evaluation import sequence_mrr_score\n",
    "\n",
    "train, test = user_based_train_test_split(interaction_data)\n",
    "\n",
    "# Convert to sequences suitable for the model\n",
    "train = train.to_sequence(max_sequence_length=20)\n",
    "test = test.to_sequence(max_sequence_length=20)\n",
    "\n",
    "# Define the representation. Here we use a CNN.\n",
    "representation = CNNNet(train.num_items, embedding_dim=32, kernel_width=3, num_layers=1)\n",
    "\n",
    "# Create the ImplicitSequenceModel with specified representation\n",
    "model_seq = ImplicitSequenceModel(n_iter=10,\n",
    "                                  representation=representation,\n",
    "                                  loss='bpr',\n",
    "                                  batch_size=1024,\n",
    "                                  learning_rate=1e-2,\n",
    "                                  l2=1e-5,\n",
    "                                  random_state=np.random.RandomState(42))\n",
    "\n",
    "# Fit the model\n",
    "model_seq.fit(train, verbose=True)\n",
    "\n",
    "# Evaluate the model\n",
    "mrr = sequence_mrr_score(model_seq, test)\n",
    "print(f'Mean Reciprocal Rank: {mrr.mean()}')"
   ]
  },
  {
   "cell_type": "code",
   "execution_count": null,
   "metadata": {},
   "outputs": [],
   "source": [
    "def recommend_next_movies(model, movies_df, user_interactions, n_movies=5):\n",
    "    # Predict scores for all items for a given user's interaction sequence\n",
    "    user_interaction_sequence = np.array([user_interactions], dtype=np.int32)\n",
    "    pred = model.predict(user_interaction_sequence)\n",
    "    \n",
    "    # Get the movie indices sorted by predicted rating\n",
    "    sorted_indices = np.argsort(pred[0])[::-1]\n",
    "\n",
    "    # Filter out movies the user has already seen\n",
    "    seen_indices = set(user_interactions)\n",
    "    recommended_indices = [i for i in sorted_indices if i not in seen_indices][:n_movies]\n",
    "    \n",
    "    # Get the recommended movie titles using the top indices\n",
    "    recommended_movies = movies_df.loc[movies_df['item_id'].isin(recommended_indices), 'title'].values.tolist()\n",
    "\n",
    "    return recommended_movies\n",
    "\n",
    "# Example usage:\n",
    "# Assuming you have a user with user_id = 123 and you want to recommend movies\n",
    "user_id = 123\n",
    "user_interactions = interactions_df[interactions_df['user_id'] == user_id]['item_id'].tolist()\n",
    "recommendations = recommend_next_movies(model_seq, movies_df, user_interactions)\n",
    "print(f'Recommended movies for user {user_id}: {recommendations}')"
   ]
  },
  {
   "cell_type": "code",
   "execution_count": null,
   "metadata": {},
   "outputs": [],
   "source": [
    "import pandas as pd\n",
    "import matplotlib.pyplot as plt\n",
    "\n",
    "# Assuming interactions_df is your dataset with at least 'item_id' and 'rating'.\n",
    "# Let's also assume that movies_df is your dataset with at least 'item_id' and 'title'.\n",
    "\n",
    "# Step 1: Aggregate the ratings\n",
    "ratings_count = ratings_df.groupby('item_id')['rating'].count().reset_index(name='rating_count')\n",
    "\n",
    "# Step 2: Merge the movie titles\n",
    "ratings_with_titles = ratings_count.merge(movies_df[['item_id', 'title']], on='item_id')\n",
    "\n",
    "# Step 3: Sort the data\n",
    "sorted_ratings = ratings_with_titles.sort_values(by='rating_count', ascending=False)\n",
    "\n",
    "# Step 4: Visualization\n",
    "plt.figure(figsize=(12, 6))\n",
    "plt.barh(sorted_ratings['title'][:10], sorted_ratings['rating_count'][:10])\n",
    "plt.xlabel('Number of Ratings')\n",
    "plt.ylabel('Movies')\n",
    "plt.title('Top 10 Movies with Most Ratings')\n",
    "plt.gca().invert_yaxis()  # To display the highest value on top\n",
    "plt.show()\n"
   ]
  }
 ],
 "metadata": {
  "kernelspec": {
   "display_name": "Python 3 (ipykernel)",
   "language": "python",
   "name": "python3"
  },
  "language_info": {
   "codemirror_mode": {
    "name": "ipython",
    "version": 3
   },
   "file_extension": ".py",
   "mimetype": "text/x-python",
   "name": "python",
   "nbconvert_exporter": "python",
   "pygments_lexer": "ipython3",
   "version": "3.11.2"
  }
 },
 "nbformat": 4,
 "nbformat_minor": 2
}
