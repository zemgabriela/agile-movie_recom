{
 "cells": [
  {
   "cell_type": "code",
   "execution_count": 1,
   "metadata": {},
   "outputs": [],
   "source": [
    "import pandas as pd\n",
    "import numpy as np"
   ]
  },
  {
   "cell_type": "markdown",
   "metadata": {},
   "source": [
    "## Data importation and understanding"
   ]
  },
  {
   "cell_type": "markdown",
   "metadata": {},
   "source": [
    "**Read the .csv files in local:**"
   ]
  },
  {
   "cell_type": "code",
   "execution_count": 2,
   "metadata": {},
   "outputs": [],
   "source": [
    "# Read the data in local\n",
    "movies_df = pd.read_csv('ml-latest-small/movies.csv', sep=',', names=['item_id', 'title', 'genres'], engine='python',skiprows=1)\n",
    "tags_df = pd.read_csv('ml-latest-small/tags.csv', sep=',', names=['user_id', 'item_id', 'tag', 'timestamp'], engine='python',skiprows=1)\n",
    "ratings_df = pd.read_csv('ml-latest-small/ratings.csv', sep=',', names=['user_id', 'item_id', 'rating', 'timestamp'], engine='python',skiprows=1)"
   ]
  },
  {
   "cell_type": "markdown",
   "metadata": {},
   "source": [
    "**Read the data from SQL Database:**"
   ]
  },
  {
   "cell_type": "code",
   "execution_count": 3,
   "metadata": {},
   "outputs": [
    {
     "ename": "Error",
     "evalue": "('IM002', '[IM002] [Microsoft][Driver Manager ODBC] Nome origine dati non trovato e driver predefinito non specificato.')",
     "output_type": "error",
     "traceback": [
      "\u001b[1;31m---------------------------------------------------------------------------\u001b[0m",
      "\u001b[1;31mError\u001b[0m                                     Traceback (most recent call last)",
      "\u001b[1;32mc:\\Users\\Eddie\\OneDrive\\Desktop\\Data Science\\Agile Data Science\\spotlight\\recommender_model.ipynb Cell 6\u001b[0m line \u001b[0;36m2\n\u001b[0;32m     <a href='vscode-notebook-cell:/c%3A/Users/Eddie/OneDrive/Desktop/Data%20Science/Agile%20Data%20Science/spotlight/recommender_model.ipynb#W5sZmlsZQ%3D%3D?line=17'>18</a>\u001b[0m    data \u001b[39m=\u001b[39m pd\u001b[39m.\u001b[39mDataFrame(data, columns\u001b[39m=\u001b[39mcolumn_names)\n\u001b[0;32m     <a href='vscode-notebook-cell:/c%3A/Users/Eddie/OneDrive/Desktop/Data%20Science/Agile%20Data%20Science/spotlight/recommender_model.ipynb#W5sZmlsZQ%3D%3D?line=18'>19</a>\u001b[0m    \u001b[39mreturn\u001b[39;00m data\n\u001b[1;32m---> <a href='vscode-notebook-cell:/c%3A/Users/Eddie/OneDrive/Desktop/Data%20Science/Agile%20Data%20Science/spotlight/recommender_model.ipynb#W5sZmlsZQ%3D%3D?line=20'>21</a>\u001b[0m connectToDatabase()\n\u001b[0;32m     <a href='vscode-notebook-cell:/c%3A/Users/Eddie/OneDrive/Desktop/Data%20Science/Agile%20Data%20Science/spotlight/recommender_model.ipynb#W5sZmlsZQ%3D%3D?line=22'>23</a>\u001b[0m movies_df \u001b[39m=\u001b[39m get_table(\u001b[39m'\u001b[39m\u001b[39mmovies\u001b[39m\u001b[39m'\u001b[39m)\n\u001b[0;32m     <a href='vscode-notebook-cell:/c%3A/Users/Eddie/OneDrive/Desktop/Data%20Science/Agile%20Data%20Science/spotlight/recommender_model.ipynb#W5sZmlsZQ%3D%3D?line=23'>24</a>\u001b[0m tags_df \u001b[39m=\u001b[39m get_table(\u001b[39m'\u001b[39m\u001b[39mtags\u001b[39m\u001b[39m'\u001b[39m)\n",
      "\u001b[1;32mc:\\Users\\Eddie\\OneDrive\\Desktop\\Data Science\\Agile Data Science\\spotlight\\recommender_model.ipynb Cell 6\u001b[0m line \u001b[0;36m7\n\u001b[0;32m      <a href='vscode-notebook-cell:/c%3A/Users/Eddie/OneDrive/Desktop/Data%20Science/Agile%20Data%20Science/spotlight/recommender_model.ipynb#W5sZmlsZQ%3D%3D?line=4'>5</a>\u001b[0m connection_string \u001b[39m=\u001b[39m \u001b[39m'\u001b[39m\u001b[39mDriver=\u001b[39m\u001b[39m{\u001b[39m\u001b[39mODBC Driver 18 for SQL Server};Server=tcp:agiledsproject.database.windows.net,1433;Database=MovieRatings;Uid=ProjectDataBase;Pwd=Agile2023;Encrypt=yes;TrustServerCertificate=no;Connection Timeout=30;\u001b[39m\u001b[39m'\u001b[39m\n\u001b[0;32m      <a href='vscode-notebook-cell:/c%3A/Users/Eddie/OneDrive/Desktop/Data%20Science/Agile%20Data%20Science/spotlight/recommender_model.ipynb#W5sZmlsZQ%3D%3D?line=5'>6</a>\u001b[0m \u001b[39mglobal\u001b[39;00m conn \n\u001b[1;32m----> <a href='vscode-notebook-cell:/c%3A/Users/Eddie/OneDrive/Desktop/Data%20Science/Agile%20Data%20Science/spotlight/recommender_model.ipynb#W5sZmlsZQ%3D%3D?line=6'>7</a>\u001b[0m conn \u001b[39m=\u001b[39m odbc\u001b[39m.\u001b[39;49mconnect(connection_string)\n\u001b[0;32m      <a href='vscode-notebook-cell:/c%3A/Users/Eddie/OneDrive/Desktop/Data%20Science/Agile%20Data%20Science/spotlight/recommender_model.ipynb#W5sZmlsZQ%3D%3D?line=7'>8</a>\u001b[0m \u001b[39mglobal\u001b[39;00m cursor \n\u001b[0;32m      <a href='vscode-notebook-cell:/c%3A/Users/Eddie/OneDrive/Desktop/Data%20Science/Agile%20Data%20Science/spotlight/recommender_model.ipynb#W5sZmlsZQ%3D%3D?line=8'>9</a>\u001b[0m cursor \u001b[39m=\u001b[39m conn\u001b[39m.\u001b[39mcursor()\n",
      "File \u001b[1;32mc:\\Users\\Eddie\\anaconda3\\Lib\\site-packages\\pypyodbc.py:2454\u001b[0m, in \u001b[0;36mConnection.__init__\u001b[1;34m(self, connectString, autocommit, ansi, timeout, unicode_results, readonly, **kargs)\u001b[0m\n\u001b[0;32m   2450\u001b[0m \u001b[39mif\u001b[39;00m \u001b[39mself\u001b[39m\u001b[39m.\u001b[39mconnection_timeout \u001b[39m!=\u001b[39m \u001b[39m0\u001b[39m:\n\u001b[0;32m   2451\u001b[0m     \u001b[39mself\u001b[39m\u001b[39m.\u001b[39mset_connection_timeout(connection_timeout)\n\u001b[1;32m-> 2454\u001b[0m \u001b[39mself\u001b[39;49m\u001b[39m.\u001b[39;49mconnect(connectString, autocommit, ansi, timeout, unicode_results, readonly)\n",
      "File \u001b[1;32mc:\\Users\\Eddie\\anaconda3\\Lib\\site-packages\\pypyodbc.py:2507\u001b[0m, in \u001b[0;36mConnection.connect\u001b[1;34m(self, connectString, autocommit, ansi, timeout, unicode_results, readonly)\u001b[0m\n\u001b[0;32m   2505\u001b[0m \u001b[39melse\u001b[39;00m:\n\u001b[0;32m   2506\u001b[0m     ret \u001b[39m=\u001b[39m odbc_func(\u001b[39mself\u001b[39m\u001b[39m.\u001b[39mdbc_h, \u001b[39m0\u001b[39m, c_connectString, \u001b[39mlen\u001b[39m(\u001b[39mself\u001b[39m\u001b[39m.\u001b[39mconnectString), \u001b[39mNone\u001b[39;00m, \u001b[39m0\u001b[39m, \u001b[39mNone\u001b[39;00m, SQL_DRIVER_NOPROMPT)\n\u001b[1;32m-> 2507\u001b[0m check_success(\u001b[39mself\u001b[39;49m, ret)\n\u001b[0;32m   2510\u001b[0m \u001b[39m# Set the connection's attribute of \"autocommit\" \u001b[39;00m\n\u001b[0;32m   2511\u001b[0m \u001b[39m#\u001b[39;00m\n\u001b[0;32m   2512\u001b[0m \u001b[39mself\u001b[39m\u001b[39m.\u001b[39mautocommit \u001b[39m=\u001b[39m autocommit\n",
      "File \u001b[1;32mc:\\Users\\Eddie\\anaconda3\\Lib\\site-packages\\pypyodbc.py:1009\u001b[0m, in \u001b[0;36mcheck_success\u001b[1;34m(ODBC_obj, ret)\u001b[0m\n\u001b[0;32m   1007\u001b[0m     ctrl_err(SQL_HANDLE_STMT, ODBC_obj\u001b[39m.\u001b[39mstmt_h, ret, ODBC_obj\u001b[39m.\u001b[39mansi)\n\u001b[0;32m   1008\u001b[0m \u001b[39melif\u001b[39;00m \u001b[39misinstance\u001b[39m(ODBC_obj, Connection):\n\u001b[1;32m-> 1009\u001b[0m     ctrl_err(SQL_HANDLE_DBC, ODBC_obj\u001b[39m.\u001b[39;49mdbc_h, ret, ODBC_obj\u001b[39m.\u001b[39;49mansi)\n\u001b[0;32m   1010\u001b[0m \u001b[39melse\u001b[39;00m:\n\u001b[0;32m   1011\u001b[0m     ctrl_err(SQL_HANDLE_ENV, ODBC_obj, ret, \u001b[39mFalse\u001b[39;00m)\n",
      "File \u001b[1;32mc:\\Users\\Eddie\\anaconda3\\Lib\\site-packages\\pypyodbc.py:985\u001b[0m, in \u001b[0;36mctrl_err\u001b[1;34m(ht, h, val_ret, ansi)\u001b[0m\n\u001b[0;32m    983\u001b[0m     \u001b[39mraise\u001b[39;00m OperationalError(state,err_text)\n\u001b[0;32m    984\u001b[0m \u001b[39melif\u001b[39;00m state[:\u001b[39m2\u001b[39m] \u001b[39min\u001b[39;00m (raw_s(\u001b[39m'\u001b[39m\u001b[39mIM\u001b[39m\u001b[39m'\u001b[39m),raw_s(\u001b[39m'\u001b[39m\u001b[39mHY\u001b[39m\u001b[39m'\u001b[39m)):\n\u001b[1;32m--> 985\u001b[0m     \u001b[39mraise\u001b[39;00m Error(state,err_text)\n\u001b[0;32m    986\u001b[0m \u001b[39melse\u001b[39;00m:\n\u001b[0;32m    987\u001b[0m     \u001b[39mraise\u001b[39;00m DatabaseError(state,err_text)\n",
      "\u001b[1;31mError\u001b[0m: ('IM002', '[IM002] [Microsoft][Driver Manager ODBC] Nome origine dati non trovato e driver predefinito non specificato.')"
     ]
    }
   ],
   "source": [
    "# Import the data from sql database\n",
    "import pypyodbc as odbc\n",
    "\n",
    "def connectToDatabase():\n",
    "    connection_string = 'Driver={ODBC Driver 18 for SQL Server};Server=tcp:agiledsproject.database.windows.net,1433;Database=MovieRatings;Uid=ProjectDataBase;Pwd=Agile2023;Encrypt=yes;TrustServerCertificate=no;Connection Timeout=30;'\n",
    "    global conn \n",
    "    conn = odbc.connect(connection_string)\n",
    "    global cursor \n",
    "    cursor = conn.cursor()\n",
    "    \n",
    "def get_table(tableName):\n",
    "   cursor.execute(f\"SELECT * FROM {tableName}\")\n",
    "    #data will be a list of tuples\n",
    "   data = cursor.fetchall()\n",
    "   # These part of the code transforms it in a dataframe\n",
    "   column_names = [description[0] for description in cursor.description]\n",
    "   # Create a DataFrame using fetched rows and column names\n",
    "   data = pd.DataFrame(data, columns=column_names)\n",
    "   return data\n",
    "    \n",
    "connectToDatabase()\n",
    "\n",
    "movies_df = get_table('movies')\n",
    "tags_df = get_table('tags')\n",
    "ratings_df = get_table('ratings')"
   ]
  },
  {
   "cell_type": "markdown",
   "metadata": {},
   "source": [
    "The MovieLens dataset is a widely-used dataset for movie recommendation systems, collected by the GroupLens research group at the University of Minnesota. It consists of multiple tables containing data about movies, ratings, and tags provided by users. Here’s a description of each table and its variables:"
   ]
  },
  {
   "cell_type": "markdown",
   "metadata": {},
   "source": [
    "### movies_df\n",
    "- **item_id**: Unique identifier for movies.\n",
    "- **title**: The title of the movie, typically containing the release year in parentheses.\n",
    "- **genres**: A pipe-separated list of genres associated with the movie.\n",
    "\n",
    "This DataFrame contains metadata about the movies. Each movie is identified by a unique ID and has associated attributes like the title and the list of genres it belongs to. The genres are categorical and are typically used to filter or describe the content of the movie."
   ]
  },
  {
   "cell_type": "code",
   "execution_count": 4,
   "metadata": {},
   "outputs": [
    {
     "name": "stdout",
     "output_type": "stream",
     "text": [
      "<class 'pandas.core.frame.DataFrame'>\n",
      "RangeIndex: 9742 entries, 0 to 9741\n",
      "Data columns (total 3 columns):\n",
      " #   Column   Non-Null Count  Dtype \n",
      "---  ------   --------------  ----- \n",
      " 0   item_id  9742 non-null   int64 \n",
      " 1   title    9742 non-null   object\n",
      " 2   genres   9742 non-null   object\n",
      "dtypes: int64(1), object(2)\n",
      "memory usage: 228.5+ KB\n"
     ]
    }
   ],
   "source": [
    "movies_df.info()"
   ]
  },
  {
   "cell_type": "markdown",
   "metadata": {},
   "source": [
    "### tags_df\n",
    "- **user_id**: Unique identifier for users.\n",
    "- **item_id**: Unique identifier for movies which corresponds to `item_id` in `movies_df`.\n",
    "- **tag**: Textual tag provided by the user for a movie. These can be descriptive words or short phrases.\n",
    "- **timestamp**: The timestamp when the tag was provided. This is typically a Unix time stamp and indicates when the user tagged the movie.\n",
    "\n",
    "The `tags_df` table contains user-generated metadata for the movies. Each row indicates that a particular user has tagged a movie with a textual descriptor. These tags can be used for content-based filtering or to enhance the information about a movie beyond its genres."
   ]
  },
  {
   "cell_type": "code",
   "execution_count": 5,
   "metadata": {},
   "outputs": [
    {
     "name": "stdout",
     "output_type": "stream",
     "text": [
      "<class 'pandas.core.frame.DataFrame'>\n",
      "RangeIndex: 3683 entries, 0 to 3682\n",
      "Data columns (total 4 columns):\n",
      " #   Column     Non-Null Count  Dtype \n",
      "---  ------     --------------  ----- \n",
      " 0   user_id    3683 non-null   int64 \n",
      " 1   item_id    3683 non-null   int64 \n",
      " 2   tag        3683 non-null   object\n",
      " 3   timestamp  3683 non-null   int64 \n",
      "dtypes: int64(3), object(1)\n",
      "memory usage: 115.2+ KB\n"
     ]
    }
   ],
   "source": [
    "tags_df.info()"
   ]
  },
  {
   "cell_type": "markdown",
   "metadata": {},
   "source": [
    "### ratings_df\n",
    "- **user_id**: Unique identifier for users, which corresponds to `user_id` in `tags_df`.\n",
    "- **item_id**: Unique identifier for movies, consistent with `item_id` in both `movies_df` and `tags_df`.\n",
    "- **rating**: The rating given to a movie by a user. This is typically on a defined scale, like 0.5 to 5 stars.\n",
    "- **timestamp**: The timestamp when the rating was provided, in the same format as in `tags_df`.\n",
    "\n",
    "The `ratings_df` table is a record of user ratings for movies. Each row documents that a user has assigned a numerical rating to a movie. This is the core data used in collaborative filtering for recommendation systems."
   ]
  },
  {
   "cell_type": "code",
   "execution_count": 6,
   "metadata": {},
   "outputs": [
    {
     "name": "stdout",
     "output_type": "stream",
     "text": [
      "<class 'pandas.core.frame.DataFrame'>\n",
      "RangeIndex: 100836 entries, 0 to 100835\n",
      "Data columns (total 4 columns):\n",
      " #   Column     Non-Null Count   Dtype  \n",
      "---  ------     --------------   -----  \n",
      " 0   user_id    100836 non-null  int64  \n",
      " 1   item_id    100836 non-null  int64  \n",
      " 2   rating     100836 non-null  float64\n",
      " 3   timestamp  100836 non-null  int64  \n",
      "dtypes: float64(1), int64(3)\n",
      "memory usage: 3.1 MB\n"
     ]
    }
   ],
   "source": [
    "ratings_df.info()"
   ]
  },
  {
   "cell_type": "markdown",
   "metadata": {},
   "source": [
    "When using these tables for building a recommendation system, one usually starts with the `ratings_df` to build the utility matrix that relates users to movies through the ratings they've provided. `movies_df` can be used to provide readable movie titles and genres for recommendations, and `tags_df` can add additional context for the movies or for more sophisticated recommendation systems that also use content-based filtering methods."
   ]
  },
  {
   "cell_type": "markdown",
   "metadata": {},
   "source": [
    "## Exploring the data"
   ]
  },
  {
   "cell_type": "code",
   "execution_count": 7,
   "metadata": {},
   "outputs": [
    {
     "name": "stdout",
     "output_type": "stream",
     "text": [
      "Unique movies: 9742\n",
      "Unique users in ratings: 610\n",
      "Unique movies in ratings: 9724\n",
      "Unique users in tags: 58\n",
      "Unique movies in tags: 1572\n",
      "Unique tags: 1589\n"
     ]
    }
   ],
   "source": [
    "# For movies_df to count unique movies\n",
    "unique_movies = movies_df['item_id'].nunique()\n",
    "print(f'Unique movies: {unique_movies}')\n",
    "\n",
    "# For ratings_df to count unique users and movies\n",
    "unique_users_ratings = ratings_df['user_id'].nunique()\n",
    "unique_movies_ratings = ratings_df['item_id'].nunique()\n",
    "print(f'Unique users in ratings: {unique_users_ratings}')\n",
    "print(f'Unique movies in ratings: {unique_movies_ratings}')\n",
    "\n",
    "# For tags_df to count unique users, movies, and tags\n",
    "unique_users_tags = tags_df['user_id'].nunique()\n",
    "unique_movies_tags = tags_df['item_id'].nunique()\n",
    "unique_tags = tags_df['tag'].nunique()\n",
    "print(f'Unique users in tags: {unique_users_tags}')\n",
    "print(f'Unique movies in tags: {unique_movies_tags}')\n",
    "print(f'Unique tags: {unique_tags}')"
   ]
  },
  {
   "cell_type": "code",
   "execution_count": 8,
   "metadata": {},
   "outputs": [
    {
     "data": {
      "image/png": "[encoded data removed]",
      "text/plain": [
       "<Figure size 1200x600 with 1 Axes>"
      ]
     },
     "metadata": {},
     "output_type": "display_data"
    }
   ],
   "source": [
    "import pandas as pd\n",
    "import matplotlib.pyplot as plt\n",
    "\n",
    "# Assuming interactions_df is your dataset with at least 'item_id' and 'rating'.\n",
    "# Let's also assume that movies_df is your dataset with at least 'item_id' and 'title'.\n",
    "\n",
    "# Step 1: Aggregate the ratings\n",
    "ratings_count = ratings_df.groupby('item_id')['rating'].count().reset_index(name='rating_count')\n",
    "\n",
    "# Step 2: Merge the movie titles\n",
    "ratings_with_titles = ratings_count.merge(movies_df[['item_id', 'title']], on='item_id')\n",
    "\n",
    "# Step 3: Sort the data\n",
    "sorted_ratings = ratings_with_titles.sort_values(by='rating_count', ascending=False)\n",
    "\n",
    "# Step 4: Visualization\n",
    "plt.figure(figsize=(12, 6))\n",
    "plt.barh(sorted_ratings['title'][:10], sorted_ratings['rating_count'][:10])\n",
    "plt.xlabel('Number of Ratings')\n",
    "plt.ylabel('Movies')\n",
    "plt.title('Top 10 Movies with Most Ratings')\n",
    "plt.gca().invert_yaxis()  # To display the highest value on top\n",
    "plt.show()"
   ]
  },
  {
   "cell_type": "markdown",
   "metadata": {},
   "source": [
    "## Small preprocess"
   ]
  },
  {
   "cell_type": "markdown",
   "metadata": {},
   "source": [
    "We first transform the columns in the table `ratings_df` to *int32*, as the recommender model needs this adaptation"
   ]
  },
  {
   "cell_type": "code",
   "execution_count": 9,
   "metadata": {},
   "outputs": [],
   "source": [
    "ratings_df['user_id']=ratings_df['user_id'].astype('int32')\n",
    "ratings_df['item_id']=ratings_df['item_id'].astype('int32')\n",
    "ratings_df['timestamp']=ratings_df['timestamp'].astype('int32') #It is required by the model"
   ]
  },
  {
   "cell_type": "markdown",
   "metadata": {},
   "source": [
    "We split the title of the movies in the `movies_df`, creating another column for the year of the film.\n",
    "\n",
    "After that, we will get rid of the characters ', The', which are at the last part of some titles."
   ]
  },
  {
   "cell_type": "code",
   "execution_count": 10,
   "metadata": {},
   "outputs": [],
   "source": [
    "movies_df['year'] = movies_df['title'].str.extract(r'\\((\\d{4}(?:–\\d{4})?)\\)')  # Extracting the year or year range into a new column\n",
    "movies_df['year'] = movies_df['year'].where(movies_df['year'].str.len() == 4, None)  # Set to None if not a single year\n",
    "movies_df['title'] = movies_df['title'].str.replace(r'\\(\\d{4}(?:–\\d{4})?\\)', '', regex=True).str.strip()  # Removing the year from the title\n",
    "\n",
    "movies_df['title']=movies_df['title'].str.replace(', The', '')\n",
    "movies_df['genres']=movies_df['genres'].str.replace('|',', ')"
   ]
  },
  {
   "cell_type": "code",
   "execution_count": 11,
   "metadata": {},
   "outputs": [
    {
     "name": "stdout",
     "output_type": "stream",
     "text": [
      "      item_id                               title  \\\n",
      "0           1                           Toy Story   \n",
      "1           2                             Jumanji   \n",
      "2           3                    Grumpier Old Men   \n",
      "3           4                   Waiting to Exhale   \n",
      "4           5         Father of the Bride Part II   \n",
      "...       ...                                 ...   \n",
      "9737   193581  Black Butler: Book of the Atlantic   \n",
      "9738   193583               No Game No Life: Zero   \n",
      "9739   193585                               Flint   \n",
      "9740   193587        Bungo Stray Dogs: Dead Apple   \n",
      "9741   193609        Andrew Dice Clay: Dice Rules   \n",
      "\n",
      "                                               genres  year  \n",
      "0     Adventure, Animation, Children, Comedy, Fantasy  1995  \n",
      "1                        Adventure, Children, Fantasy  1995  \n",
      "2                                     Comedy, Romance  1995  \n",
      "3                              Comedy, Drama, Romance  1995  \n",
      "4                                              Comedy  1995  \n",
      "...                                               ...   ...  \n",
      "9737               Action, Animation, Comedy, Fantasy  2017  \n",
      "9738                       Animation, Comedy, Fantasy  2017  \n",
      "9739                                            Drama  2017  \n",
      "9740                                Action, Animation  2018  \n",
      "9741                                           Comedy  1991  \n",
      "\n",
      "[9742 rows x 4 columns]\n"
     ]
    }
   ],
   "source": [
    "from imdb import IMDb\n",
    "\n",
    "na_rows = movies_df['year'].isna()\n",
    "\n",
    "ia = IMDb()\n",
    "\n",
    "def get_movie_year(title):\n",
    "    try:\n",
    "        movie = ia.search_movie(title)[0]\n",
    "        return movie['year']\n",
    "    except Exception as e:\n",
    "        print(f\"Error fetching year for '{title}': {e}\")\n",
    "        return None\n",
    "\n",
    "# Apply the function to the dataframe\n",
    "movies_df.loc[na_rows,'year'] = movies_df.loc[na_rows,'title'].apply(get_movie_year)\n",
    "\n",
    "movies_df['year'] = movies_df['year'].astype(int)\n",
    "print(movies_df)"
   ]
  },
  {
   "cell_type": "markdown",
   "metadata": {},
   "source": [
    "## Implementing the recommender"
   ]
  },
  {
   "cell_type": "markdown",
   "metadata": {},
   "source": [
    "Here's a brief explanation of some common hyperparameters for factorization models and a suggested grid for searching:\n",
    "\n",
    "1. **n_iter**: The number of epochs to run when training the model. More epochs could lead to better performance but also increase the risk of overfitting and computational time.\n",
    "   - Suggested grid: `[1, 5, 10, 20]`\n",
    "\n",
    "2. **embedding_dim**: The size of the latent feature vectors for users and items. Larger dimensions could capture more complex patterns but might overfit.\n",
    "   - Suggested grid: `[8, 16, 32, 64]`\n",
    "\n",
    "3. **learning_rate**: The step size at each iteration of the optimization algorithm. A smaller learning rate could lead to more precise convergence but might require more epochs.\n",
    "   - Suggested grid: `[0.001, 0.01, 0.1]`\n",
    "\n",
    "4. **l2**: The L2 regularization penalty. Higher values could prevent overfitting but might lead to underfitting if too large.\n",
    "   - Suggested grid: `[0.0, 1e-6, 1e-5, 1e-3]`\n",
    "\n",
    "5. **loss**: The loss function to be used. Common options are `pointwise`, `bpr`, or `hinge` loss, which are suitable for different types of recommendation tasks.\n",
    "   - Suggested values: `['pointwise', 'bpr', 'hinge']`\n",
    "\n",
    "6. **batch_size**: The number of samples per gradient update. Larger batches provide more accurate estimates of the gradient, but smaller batches might help the model to generalize better.\n",
    "   - Suggested grid: `[32, 64, 128, 256]`\n"
   ]
  },
  {
   "cell_type": "markdown",
   "metadata": {},
   "source": [
    "### Training the model"
   ]
  },
  {
   "cell_type": "code",
   "execution_count": 12,
   "metadata": {},
   "outputs": [],
   "source": [
    "from spotlight.interactions import Interactions\n",
    "from spotlight.factorization.explicit import ExplicitFactorizationModel\n",
    "from spotlight.cross_validation import random_train_test_split\n"
   ]
  },
  {
   "cell_type": "code",
   "execution_count": 15,
   "metadata": {},
   "outputs": [],
   "source": [
    "from spotlight.interactions import Interactions\n",
    "from spotlight.factorization.explicit import ExplicitFactorizationModel\n",
    "from spotlight.cross_validation import random_train_test_split\n",
    "\n",
    "# Step 2: Create the Interactions object\n",
    "interaction_data = Interactions(\n",
    "    user_ids=ratings_df['user_id'].values,\n",
    "    item_ids=ratings_df['item_id'].values,\n",
    "    ratings=ratings_df['rating'].values,\n",
    "    timestamps=ratings_df['timestamp'].values\n",
    ")\n",
    "\n",
    "# Split the interaction data into training and test sets\n",
    "train, test = random_train_test_split(interaction_data)"
   ]
  },
  {
   "cell_type": "code",
   "execution_count": 13,
   "metadata": {},
   "outputs": [
    {
     "name": "stdout",
     "output_type": "stream",
     "text": [
      "Epoch 0: loss 4.224672758922054\n",
      "Epoch 1: loss 0.8089573565501373\n",
      "Epoch 2: loss 0.5204820127232128\n",
      "Epoch 3: loss 0.37216186661901923\n",
      "Epoch 4: loss 0.29550251624730794\n"
     ]
    }
   ],
   "source": [
    "# Initialize the model\n",
    "model = ExplicitFactorizationModel(\n",
    "    n_iter=5,           # Number of epochs of training\n",
    "    embedding_dim=32,   # Latent factors (embedding size)\n",
    "    use_cuda=False      # If you have a CUDA capable GPU, set to True to speed up training\n",
    ")\n",
    "\n",
    "# Fit the model on the training data\n",
    "model.fit(train, verbose=True)"
   ]
  },
  {
   "cell_type": "code",
   "execution_count": 13,
   "metadata": {},
   "outputs": [],
   "source": [
    "from joblib import dump, load\n",
    "\n",
    "#dump(model, 'model.pkl')\n",
    "\n",
    "model = load('model.pkl')\n"
   ]
  },
  {
   "cell_type": "code",
   "execution_count": 16,
   "metadata": {},
   "outputs": [
    {
     "name": "stdout",
     "output_type": "stream",
     "text": [
      "Train RMSE 0.629, test RMSE 0.631\n"
     ]
    }
   ],
   "source": [
    "from spotlight.evaluation import rmse_score\n",
    "\n",
    "train_rmse = rmse_score(model, train)\n",
    "test_rmse = rmse_score(model, test)\n",
    "\n",
    "print('Train RMSE {:.3f}, test RMSE {:.3f}'.format(train_rmse, test_rmse))"
   ]
  },
  {
   "cell_type": "markdown",
   "metadata": {},
   "source": [
    "### R1: Community recommender"
   ]
  },
  {
   "cell_type": "markdown",
   "metadata": {},
   "source": [
    "Given a tag, a list of popular tags and a number of films (n), it returns the most *n* recommended films (ordered by rating) in the tag provided.\n",
    "\n",
    "If the tag is not in the popular tags list, it returns an error."
   ]
  },
  {
   "cell_type": "code",
   "execution_count": 14,
   "metadata": {},
   "outputs": [
    {
     "data": {
      "text/plain": [
       "tag\n",
       "In Netflix queue     131\n",
       "atmospheric           36\n",
       "thought-provoking     24\n",
       "superhero             24\n",
       "funny                 23\n",
       "Name: count, dtype: int64"
      ]
     },
     "execution_count": 14,
     "metadata": {},
     "output_type": "execute_result"
    }
   ],
   "source": [
    "# We first filter popular tags, which have more than 15 users\n",
    "counter_tag= tags_df['tag'].value_counts()\n",
    "popular_tag = counter_tag[counter_tag > 15]\n",
    "popular_tag.head()"
   ]
  },
  {
   "cell_type": "code",
   "execution_count": 15,
   "metadata": {},
   "outputs": [],
   "source": [
    "def community_recommender(tag, popular_tag, n, genre=None):\n",
    "    popular_tag = [t.lower() for t in popular_tag.index] \n",
    "    tag = tag.lower()  # convert everything to lower case\n",
    "    if tag in popular_tag:\n",
    "        movie_filtered_by_tag = tags_df[tags_df['tag'].str.lower() == tag]\n",
    "        movie_list = movie_filtered_by_tag['item_id']  # we extract here the movies that have this tag\n",
    "        movies_filtered = ratings_df[ratings_df['item_id'].isin(movie_list)].groupby(['item_id'])['rating'].mean().reset_index()  # here we focus on those movies and then we extract the mean rating.\n",
    "        \n",
    "        # If genre filtering is enabled, filter the movies_df first\n",
    "        if genre:\n",
    "            movies_df_filtered_by_genre = movies_df[movies_df['genres'].str.contains(genre, case=False, na=False)]\n",
    "            movies_filtered = movies_filtered[movies_filtered['item_id'].isin(movies_df_filtered_by_genre['item_id'])]\n",
    "        \n",
    "        movies_filtered.sort_values(by='rating', ascending=False, inplace=True)  # we sort them \n",
    "        top_movie_ids = movies_filtered.head(n)['item_id']  # here we extract the first n movies\n",
    "        recommended_movies = movies_df[movies_df['item_id'].isin(top_movie_ids)]['title'].values.tolist()  # we extract the movies with that id\n",
    "        return recommended_movies\n",
    "    else:\n",
    "        return 'No matches based on your research'"
   ]
  },
  {
   "cell_type": "code",
   "execution_count": 16,
   "metadata": {},
   "outputs": [
    {
     "name": "stdout",
     "output_type": "stream",
     "text": [
      "Pulp Fiction\n"
     ]
    }
   ],
   "source": [
    "print(\"\\n\".join(community_recommender('suspense',popular_tag,10, genre='Comedy'))) #Example of how to use it."
   ]
  },
  {
   "cell_type": "markdown",
   "metadata": {},
   "source": [
    "### R2: Rating prediction given a user and a movie"
   ]
  },
  {
   "cell_type": "markdown",
   "metadata": {},
   "source": [
    "Given a user_id and a movie_title, it predicts the rating for the given movie and user."
   ]
  },
  {
   "cell_type": "code",
   "execution_count": 17,
   "metadata": {},
   "outputs": [
    {
     "name": "stdout",
     "output_type": "stream",
     "text": [
      "Predicted rating for user 10 and movie 'Ice Age 4: Continental Drift': 4.538609504699707\n"
     ]
    }
   ],
   "source": [
    "def predict_rating_for_user_and_movie(model, user_id, movie_title, movies_df):\n",
    "    # Predict scores for all items for the user\n",
    "    pred = model.predict(user_ids=np.array([user_id]))\n",
    "\n",
    "    # Get the movie indices sorted by predicted rating\n",
    "    sorted_indices = np.argsort(pred)[::-1]\n",
    "\n",
    "    # Find the movie ID corresponding to the given movie title\n",
    "    movie_row = movies_df[movies_df['title'] == movie_title]\n",
    "    if movie_row.empty:\n",
    "        return \"Movie title not found.\"\n",
    "\n",
    "    movie_id = movie_row['item_id'].iloc[0]\n",
    "\n",
    "    # Get the sorted index for this movie ID\n",
    "    sorted_index = np.where(sorted_indices == movie_id)[0][0]\n",
    "\n",
    "    # Get the predicted rating for the movie\n",
    "    predicted_rating = pred[sorted_indices[sorted_index]]\n",
    "\n",
    "    return predicted_rating\n",
    "\n",
    "# Example usage\n",
    "user_id = 10  # replace with the user ID\n",
    "movie_title = \"Ice Age 4: Continental Drift\"  # replace with the movie title\n",
    "predicted_rating = predict_rating_for_user_and_movie(model, user_id, movie_title, movies_df)\n",
    "print(f\"Predicted rating for user {user_id} and movie '{movie_title}': {predicted_rating}\")"
   ]
  },
  {
   "cell_type": "markdown",
   "metadata": {},
   "source": [
    "### R3: N recommended movies given a user"
   ]
  },
  {
   "cell_type": "markdown",
   "metadata": {},
   "source": [
    "Given a user_id and number of recommendations (n), it returns the *n* recommended movies for that user.\n",
    "We also filter by year and genre"
   ]
  },
  {
   "cell_type": "code",
   "execution_count": 17,
   "metadata": {},
   "outputs": [],
   "source": [
    "def recommended_movies_by_user(model, user_id, n_movies, movies_df, genres=None, start_year=None, end_year=None):\n",
    "    # Apply genre/year filters before making predictions\n",
    "    if genres is not None:\n",
    "        filter_condition = lambda x: any(genre.lower() in x.lower() for genre in genres)\n",
    "        movies_df = movies_df[movies_df['genres'].apply(filter_condition)]\n",
    "    if start_year is not None:\n",
    "        if end_year is not None:\n",
    "            movies_df = movies_df[(movies_df['year'] >= start_year) & (movies_df['year'] <= end_year)]\n",
    "        else:\n",
    "            movies_df = movies_df[movies_df['year'] >= start_year]\n",
    "\n",
    "    # Now predict scores for the (optionally) filtered items for the user\n",
    "    filtered_movie_ids = movies_df['item_id'].values\n",
    "    pred = model.predict(user_ids=np.array([user_id]*len(filtered_movie_ids)), item_ids=filtered_movie_ids)\n",
    "\n",
    "    # Sort predicted ratings in descending order\n",
    "    sorted_indices = np.argsort(pred)[::-1]\n",
    "    # Select the top n_movies\n",
    "    top_indices = sorted_indices[:n_movies]\n",
    "    recommended_movies = movies_df.iloc[top_indices]['title'].tolist()\n",
    "    predicted_ratings = pred[top_indices]\n",
    "    \n",
    "    return recommended_movies, predicted_ratings"
   ]
  },
  {
   "cell_type": "markdown",
   "metadata": {},
   "source": [
    "We have the following unique genres"
   ]
  },
  {
   "cell_type": "code",
   "execution_count": 18,
   "metadata": {},
   "outputs": [
    {
     "name": "stdout",
     "output_type": "stream",
     "text": [
      "['Adventure' 'Animation' 'Children' 'Comedy' 'Fantasy' 'Romance' 'Drama'\n",
      " 'Action' 'Crime' 'Thriller' 'Horror' 'Mystery' 'Sci-Fi' 'War' 'Musical'\n",
      " 'Documentary' 'IMAX' 'Western' 'Film-Noir' '(no genres listed)']\n"
     ]
    }
   ],
   "source": [
    "# Splitting and exploding the genres column\n",
    "all_genres = movies_df['genres'].str.split(', ').explode()\n",
    "\n",
    "# Finding unique genres\n",
    "unique_genres = all_genres.unique()\n",
    "\n",
    "print(unique_genres)"
   ]
  },
  {
   "cell_type": "code",
   "execution_count": 19,
   "metadata": {},
   "outputs": [
    {
     "name": "stdout",
     "output_type": "stream",
     "text": [
      "1902 2018\n"
     ]
    }
   ],
   "source": [
    "min_year=movies_df['year'].min()\n",
    "max_year=movies_df['year'].max()\n",
    "print(min_year,max_year)"
   ]
  },
  {
   "cell_type": "code",
   "execution_count": 30,
   "metadata": {},
   "outputs": [
    {
     "data": {
      "text/plain": [
       "([\"Kelly's Heroes\", 'Doctor Zhivago', 'Paths of Glory', 'Tora! Tora! Tora!'],\n",
       " array([5.6826563, 5.4139657, 5.326546 , 5.3056893], dtype=float32))"
      ]
     },
     "execution_count": 30,
     "metadata": {},
     "output_type": "execute_result"
    }
   ],
   "source": [
    "recommended_movies_by_user(model=model, user_id=299, n_movies=4, movies_df=movies_df, genres=['War'])"
   ]
  },
  {
   "cell_type": "code",
   "execution_count": 31,
   "metadata": {},
   "outputs": [
    {
     "data": {
      "text/html": [
       "<div>\n",
       "<style scoped>\n",
       "    .dataframe tbody tr th:only-of-type {\n",
       "        vertical-align: middle;\n",
       "    }\n",
       "\n",
       "    .dataframe tbody tr th {\n",
       "        vertical-align: top;\n",
       "    }\n",
       "\n",
       "    .dataframe thead th {\n",
       "        text-align: right;\n",
       "    }\n",
       "</style>\n",
       "<table border=\"1\" class=\"dataframe\">\n",
       "  <thead>\n",
       "    <tr style=\"text-align: right;\">\n",
       "      <th></th>\n",
       "      <th>item_id</th>\n",
       "      <th>title</th>\n",
       "      <th>genres</th>\n",
       "      <th>year</th>\n",
       "    </tr>\n",
       "  </thead>\n",
       "  <tbody>\n",
       "    <tr>\n",
       "      <th>883</th>\n",
       "      <td>1178</td>\n",
       "      <td>Paths of Glory</td>\n",
       "      <td>Drama, War</td>\n",
       "      <td>1957</td>\n",
       "    </tr>\n",
       "    <tr>\n",
       "      <th>1532</th>\n",
       "      <td>2067</td>\n",
       "      <td>Doctor Zhivago</td>\n",
       "      <td>Drama, Romance, War</td>\n",
       "      <td>1965</td>\n",
       "    </tr>\n",
       "    <tr>\n",
       "      <th>2313</th>\n",
       "      <td>3066</td>\n",
       "      <td>Tora! Tora! Tora!</td>\n",
       "      <td>Action, Drama, War</td>\n",
       "      <td>1970</td>\n",
       "    </tr>\n",
       "    <tr>\n",
       "      <th>2868</th>\n",
       "      <td>3836</td>\n",
       "      <td>Kelly's Heroes</td>\n",
       "      <td>Action, Comedy, War</td>\n",
       "      <td>1970</td>\n",
       "    </tr>\n",
       "  </tbody>\n",
       "</table>\n",
       "</div>"
      ],
      "text/plain": [
       "      item_id              title               genres  year\n",
       "883      1178     Paths of Glory           Drama, War  1957\n",
       "1532     2067     Doctor Zhivago  Drama, Romance, War  1965\n",
       "2313     3066  Tora! Tora! Tora!   Action, Drama, War  1970\n",
       "2868     3836     Kelly's Heroes  Action, Comedy, War  1970"
      ]
     },
     "execution_count": 31,
     "metadata": {},
     "output_type": "execute_result"
    }
   ],
   "source": [
    "titles_to_localize=[\"Kelly's Heroes\", 'Doctor Zhivago', 'Paths of Glory', 'Tora! Tora! Tora!']\n",
    "movies_df[movies_df['title'].isin(titles_to_localize)]"
   ]
  },
  {
   "cell_type": "markdown",
   "metadata": {},
   "source": [
    "### R4: N recommended movies for unseen users"
   ]
  },
  {
   "cell_type": "markdown",
   "metadata": {},
   "source": [
    "Given a list of movies the user has seen and like, it returns the *n* movies most recommended, similar to the movies the user pass."
   ]
  },
  {
   "cell_type": "markdown",
   "metadata": {},
   "source": [
    "For that, we need another model which takes as input a list of movies, rather than a user_id."
   ]
  },
  {
   "cell_type": "code",
   "execution_count": 48,
   "metadata": {},
   "outputs": [
    {
     "name": "stdout",
     "output_type": "stream",
     "text": [
      "Epoch 0: loss 0.08801506367280967\n",
      "Epoch 1: loss 0.04237236193192184\n",
      "Epoch 2: loss 0.04170784299590982\n",
      "Epoch 3: loss 0.046129557703222544\n",
      "Epoch 4: loss 0.04904810875598201\n",
      "Epoch 5: loss 0.05146565435356215\n",
      "Epoch 6: loss 0.05245026066563183\n",
      "Epoch 7: loss 0.05190651194381535\n",
      "Epoch 8: loss 0.053742461438689916\n",
      "Epoch 9: loss 0.0537084390066172\n",
      "Epoch 10: loss 0.054589861485742984\n",
      "Epoch 11: loss 0.051835467030567337\n",
      "Epoch 12: loss 0.05128447659649795\n",
      "Epoch 13: loss 0.05120281138478365\n",
      "Epoch 14: loss 0.05192264824881589\n"
     ]
    }
   ],
   "source": [
    "from spotlight.sequence.implicit import ImplicitSequenceModel\n",
    "from spotlight.cross_validation import user_based_train_test_split\n",
    "\n",
    "train, test = user_based_train_test_split(interaction_data)\n",
    "\n",
    "train = train.to_sequence()\n",
    "test = test.to_sequence()\n",
    "\n",
    "# Step 4: Model Configuration\n",
    "model_seq = ImplicitSequenceModel(\n",
    "    n_iter=15,\n",
    "    batch_size=64,\n",
    "    learning_rate=0.1,\n",
    "    l2=1e-6,\n",
    "    representation='cnn',  # Using LSTM representation\n",
    "    loss='bpr'\n",
    ")\n",
    "\n",
    "# Step 5: Training\n",
    "model_seq.fit(train, verbose=True)"
   ]
  },
  {
   "cell_type": "code",
   "execution_count": 49,
   "metadata": {},
   "outputs": [],
   "source": [
    "#dump(model_seq, 'model_seq.pkl')\n",
    "\n",
    "model_seq = load('model_seq.pkl')"
   ]
  },
  {
   "cell_type": "code",
   "execution_count": 103,
   "metadata": {},
   "outputs": [],
   "source": [
    "def recommend_next_movies(model, list_of_movies, n_movies, movies_df, genres=None, start_year=None, end_year=None):\n",
    "    \n",
    "    indices_movies = movies_df[movies_df['title'].isin(list_of_movies)]['item_id'] #we store the indices of the movies in list of movies\n",
    "    \n",
    "    # Apply genre/year filters before making predictions\n",
    "    if genres is not None:\n",
    "        filter_condition = lambda x: any(genre.lower() in x.lower() for genre in genres)\n",
    "        movies_df = movies_df[movies_df['genres'].apply(filter_condition)]\n",
    "    if start_year is not None:\n",
    "        if end_year is not None:\n",
    "            movies_df = movies_df[(movies_df['year'] >= start_year) & (movies_df['year'] <= end_year)]\n",
    "        else:\n",
    "            movies_df = movies_df[movies_df['year'] >= start_year]\n",
    "    \n",
    "    #END OF FILTERING PART\n",
    "    \n",
    "    #perform the predictions\n",
    "    item_ids = movies_df['item_id'].values.reshape(-1, 1)\n",
    "    pred = model.predict(sequences=np.array(indices_movies), item_ids=item_ids)\n",
    "    sorted_indices = np.argsort(pred)[::-1]\n",
    "    top_indices = sorted_indices[:n_movies]\n",
    "    \n",
    "    recommended_movies = movies_df.iloc[top_indices]['title'].values\n",
    "    \n",
    "    return recommended_movies"
   ]
  },
  {
   "cell_type": "code",
   "execution_count": 51,
   "metadata": {},
   "outputs": [
    {
     "name": "stdout",
     "output_type": "stream",
     "text": [
      "['Sherlock Holmes' 'Indiana Jones and the Last Crusade'\n",
      " 'City of God (Cidade de Deus)' 'Gone in 60 Seconds' 'Captain Ron'\n",
      " 'Babe: Pig in the City' 'Starship Troopers 2: Hero of the Federation'\n",
      " 'My Love' 'Sandpiper' 'Godzilla']\n",
      "['Sherlock Holmes' 'Inherit the Wind' 'Indiana Jones and the Last Crusade'\n",
      " 'Babe: Pig in the City' 'Kill Bill: Vol. 1'\n",
      " 'Independence Day (a.k.a. ID4)' 'Godzilla' \"My Best Friend's Wedding\"\n",
      " \"Class of Nuke 'Em High\" 'Kinky Boots']\n"
     ]
    }
   ],
   "source": [
    "test1 = ['Silence of the Lambs', 'World War Z', 'Exorcist']\n",
    "test2 = ['Ice Age 4: Continental Drift', 'Toy Story', 'Jumanji', 'Monsters, Inc.']\n",
    "\n",
    "indices_movies1 = movies_df[movies_df['title'].isin(test1)]['item_id']\n",
    "indices_movies2 = movies_df[movies_df['title'].isin(test2)]['item_id']\n",
    "item_ids = movies_df['item_id'].values.reshape(-1, 1)\n",
    "\n",
    "# Le seguenti righe calcolano le previsioni, ma potrebbero non essere necessarie per la tua logica attuale\n",
    "pred1 = model_seq.predict(sequences=np.array(indices_movies1), item_ids=item_ids)\n",
    "pred2 = model_seq.predict(sequences=np.array(indices_movies2), item_ids=item_ids)\n",
    "\n",
    "# Se non hai intenzione di utilizzare pred1 e pred2, puoi eliminarle\n",
    "\n",
    "print(recommend_next_movies(model_seq, test1, n_movies=10, movies_df=movies_df))\n",
    "print(recommend_next_movies(model_seq, test2, n_movies=10, movies_df=movies_df))\n"
   ]
  },
  {
   "cell_type": "code",
   "execution_count": 104,
   "metadata": {},
   "outputs": [
    {
     "data": {
      "text/plain": [
       "array(['Batman vs. Robin', 'My Love', 'Frozen', \"Bug's Life, A\",\n",
       "       'Team America: World Police'], dtype=object)"
      ]
     },
     "execution_count": 104,
     "metadata": {},
     "output_type": "execute_result"
    }
   ],
   "source": [
    "recommend_next_movies(model_seq, ['Scream'], n_movies=5, movies_df=movies_df, genres=['Animation'])"
   ]
  },
  {
   "cell_type": "code",
   "execution_count": 105,
   "metadata": {},
   "outputs": [
    {
     "data": {
      "text/html": [
       "<div>\n",
       "<style scoped>\n",
       "    .dataframe tbody tr th:only-of-type {\n",
       "        vertical-align: middle;\n",
       "    }\n",
       "\n",
       "    .dataframe tbody tr th {\n",
       "        vertical-align: top;\n",
       "    }\n",
       "\n",
       "    .dataframe thead th {\n",
       "        text-align: right;\n",
       "    }\n",
       "</style>\n",
       "<table border=\"1\" class=\"dataframe\">\n",
       "  <thead>\n",
       "    <tr style=\"text-align: right;\">\n",
       "      <th></th>\n",
       "      <th>item_id</th>\n",
       "      <th>title</th>\n",
       "      <th>genres</th>\n",
       "      <th>year</th>\n",
       "    </tr>\n",
       "  </thead>\n",
       "  <tbody>\n",
       "    <tr>\n",
       "      <th>1757</th>\n",
       "      <td>2355</td>\n",
       "      <td>Bug's Life, A</td>\n",
       "      <td>Adventure, Animation, Children, Comedy</td>\n",
       "      <td>1998</td>\n",
       "    </tr>\n",
       "    <tr>\n",
       "      <th>5350</th>\n",
       "      <td>8917</td>\n",
       "      <td>Team America: World Police</td>\n",
       "      <td>Action, Adventure, Animation, Comedy</td>\n",
       "      <td>2004</td>\n",
       "    </tr>\n",
       "    <tr>\n",
       "      <th>7288</th>\n",
       "      <td>75395</td>\n",
       "      <td>Frozen</td>\n",
       "      <td>Drama, Horror, Thriller</td>\n",
       "      <td>2010</td>\n",
       "    </tr>\n",
       "    <tr>\n",
       "      <th>8303</th>\n",
       "      <td>106696</td>\n",
       "      <td>Frozen</td>\n",
       "      <td>Adventure, Animation, Comedy, Fantasy, Musical...</td>\n",
       "      <td>2013</td>\n",
       "    </tr>\n",
       "    <tr>\n",
       "      <th>8829</th>\n",
       "      <td>131739</td>\n",
       "      <td>Batman vs. Robin</td>\n",
       "      <td>Action, Adventure, Animation</td>\n",
       "      <td>2015</td>\n",
       "    </tr>\n",
       "    <tr>\n",
       "      <th>8877</th>\n",
       "      <td>134095</td>\n",
       "      <td>My Love</td>\n",
       "      <td>Animation, Drama</td>\n",
       "      <td>2006</td>\n",
       "    </tr>\n",
       "  </tbody>\n",
       "</table>\n",
       "</div>"
      ],
      "text/plain": [
       "      item_id                       title  \\\n",
       "1757     2355               Bug's Life, A   \n",
       "5350     8917  Team America: World Police   \n",
       "7288    75395                      Frozen   \n",
       "8303   106696                      Frozen   \n",
       "8829   131739            Batman vs. Robin   \n",
       "8877   134095                     My Love   \n",
       "\n",
       "                                                 genres  year  \n",
       "1757             Adventure, Animation, Children, Comedy  1998  \n",
       "5350               Action, Adventure, Animation, Comedy  2004  \n",
       "7288                            Drama, Horror, Thriller  2010  \n",
       "8303  Adventure, Animation, Comedy, Fantasy, Musical...  2013  \n",
       "8829                       Action, Adventure, Animation  2015  \n",
       "8877                                   Animation, Drama  2006  "
      ]
     },
     "execution_count": 105,
     "metadata": {},
     "output_type": "execute_result"
    }
   ],
   "source": [
    "titles_to_localize=['Batman vs. Robin', 'My Love', 'Frozen', \"Bug's Life, A\",\n",
    "       'Team America: World Police']\n",
    "movies_df[movies_df['title'].isin(titles_to_localize)]"
   ]
  },
  {
   "cell_type": "code",
   "execution_count": 66,
   "metadata": {},
   "outputs": [],
   "source": [
    "genres=['Horror']\n",
    "filter_condition = lambda x: any(genre.lower() in x.lower() for genre in genres)\n",
    "test_df = movies_df[movies_df['genres'].apply(filter_condition)]"
   ]
  },
  {
   "cell_type": "markdown",
   "metadata": {},
   "source": [
    "### IDEA ON HOW TO INCLUDE THE FEEDBACK BASED ON THE STAR FEEDBACK. \n",
    "\n",
    "The idea is that the vector of prediction is somehow weighted by the star feedback, in order to do so we just apply a vector multiplication (component by component) in this way:\n",
    "\n",
    "$$ [p_1, \\ldots, p_n] \\cdot [w_1, \\ldots, w_n] = [p_1 \\cdot w_1, \\ldots, p_n \\cdot w_n] $$\n",
    "where $p_i$ are the predictions and $w_i$ the weights. \n",
    "\n",
    "Then, what we do is just create a user-based weights vector initialized as $1$ and then once we have a feedback for a specific movie we just change the weight referred to that movie. For example, if we have $2$ stars feedback for movie $1$ then $w_1=2/5$. The general form of the weight can be \n",
    "$$ w=\\frac{\\text{n° of stars out of 5}}{5} $$\n",
    "\n",
    "First version of the code: it can be modified to get better computational time and memory storage"
   ]
  },
  {
   "cell_type": "code",
   "execution_count": null,
   "metadata": {},
   "outputs": [],
   "source": [
    "unique_movies = movies_df['item_id'].nunique()\n",
    "unique_users= ratings_df['user_id'].nunique()\n",
    "\n",
    "W_matrix=np.ones((unique_movies,unique_users)) #weight matrix\n",
    "\n",
    "#let's create the function that change the weights according to the star feedback\n",
    "\n",
    "def update_weights(user_id,list_titles,feedbacks,W_matrix):\n",
    "    i=0\n",
    "    #titles contains the list of titles that has a feedback, while feedbacks is a vector that is of the form [4/5,5/5,1/5,...]\n",
    "    for title in list_titles:\n",
    "        index=movies_df.index[movies_df['title']==title] \n",
    "        W_matrix[index,user_id]=feedbacks[i]\n",
    "        i+=\n",
    "    return W_matrix\n",
    "\n",
    "#now if we want to implement this we just have to perform the following in R3:\n",
    "#pred = model.predict(user_ids=np.array([user_id]*len(filtered_movie_ids)), item_ids=filtered_movie_ids)\n",
    "#pred=pred*W_matrix[:,user_id] and we have the weighted prediction"
   ]
  }
 ],
 "metadata": {
  "kernelspec": {
   "display_name": "Python 3 (ipykernel)",
   "language": "python",
   "name": "python3"
  },
  "language_info": {
   "codemirror_mode": {
    "name": "ipython",
    "version": 3
   },
   "file_extension": ".py",
   "mimetype": "text/x-python",
   "name": "python",
   "nbconvert_exporter": "python",
   "pygments_lexer": "ipython3",
   "version": "3.11.5"
  }
 },
 "nbformat": 4,
 "nbformat_minor": 2
}
