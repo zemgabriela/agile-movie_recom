{
 "cells": [
  {
   "cell_type": "code",
   "execution_count": 2,
   "id": "f06b7e2d",
   "metadata": {
    "scrolled": true
   },
   "outputs": [],
   "source": [
    "import pypyodbc as odbc\n",
    "import pandas as pd\n",
    "\n",
    "connection_string = 'Driver={ODBC Driver 18 for SQL Server};Server=tcp:agiledsproject.database.windows.net,1433;Database=MovieRatings;Uid=ProjectDataBase;Pwd=Agile2023;Encrypt=yes;TrustServerCertificate=no;Connection Timeout=30;'\n",
    "conn = odbc.connect(connection_string)\n",
    "\n"
   ]
  },
  {
   "cell_type": "code",
   "execution_count": 3,
   "id": "a9890a6d",
   "metadata": {},
   "outputs": [],
   "source": [
    "cursor = conn.cursor()"
   ]
  },
  {
   "cell_type": "code",
   "execution_count": 5,
   "id": "05ba6abd",
   "metadata": {},
   "outputs": [
    {
     "ename": "ProgrammingError",
     "evalue": "('42S01', \"[42S01] [Microsoft][ODBC Driver 18 for SQL Server][SQL Server]There is already an object named 'MyTable2' in the database.\")",
     "output_type": "error",
     "traceback": [
      "\u001b[1;31m---------------------------------------------------------------------------\u001b[0m",
      "\u001b[1;31mProgrammingError\u001b[0m                          Traceback (most recent call last)",
      "Cell \u001b[1;32mIn[5], line 14\u001b[0m\n\u001b[0;32m      1\u001b[0m create_table_sql \u001b[38;5;241m=\u001b[39m \u001b[38;5;124m\"\"\"\u001b[39m\n\u001b[0;32m      2\u001b[0m \u001b[38;5;124mCREATE TABLE MyTable2 (\u001b[39m\n\u001b[0;32m      3\u001b[0m \u001b[38;5;124m    ID INT PRIMARY KEY,\u001b[39m\n\u001b[1;32m   (...)\u001b[0m\n\u001b[0;32m      6\u001b[0m \u001b[38;5;124m)\u001b[39m\n\u001b[0;32m      7\u001b[0m \u001b[38;5;124m\"\"\"\u001b[39m\n\u001b[0;32m      8\u001b[0m insert_table_sql \u001b[38;5;241m=\u001b[39m \u001b[38;5;124m\"\"\"\u001b[39m\n\u001b[0;32m      9\u001b[0m \u001b[38;5;124mINSERT INTO MYTABLE2(ID,NAME,AGE)\u001b[39m\n\u001b[0;32m     10\u001b[0m \u001b[38;5;124mVALUES\u001b[39m\n\u001b[0;32m     11\u001b[0m \u001b[38;5;124m(1,4,26);\u001b[39m\n\u001b[0;32m     12\u001b[0m \u001b[38;5;124m\"\"\"\u001b[39m\n\u001b[1;32m---> 14\u001b[0m cursor\u001b[38;5;241m.\u001b[39mexecute(create_table_sql)\n\u001b[0;32m     15\u001b[0m conn\u001b[38;5;241m.\u001b[39mcommit()\n",
      "File \u001b[1;32m~\\anaconda3\\Lib\\site-packages\\pypyodbc.py:1626\u001b[0m, in \u001b[0;36mCursor.execute\u001b[1;34m(self, query_string, params, many_mode, call_mode)\u001b[0m\n\u001b[0;32m   1622\u001b[0m         \u001b[38;5;28mself\u001b[39m\u001b[38;5;241m.\u001b[39m_UpdateDesc()\n\u001b[0;32m   1623\u001b[0m         \u001b[38;5;66;03m#self._BindCols()\u001b[39;00m\n\u001b[0;32m   1624\u001b[0m     \n\u001b[0;32m   1625\u001b[0m \u001b[38;5;28;01melse\u001b[39;00m:\n\u001b[1;32m-> 1626\u001b[0m     \u001b[38;5;28mself\u001b[39m\u001b[38;5;241m.\u001b[39mexecdirect(query_string)\n\u001b[0;32m   1627\u001b[0m \u001b[38;5;28;01mreturn\u001b[39;00m \u001b[38;5;28mself\u001b[39m\n",
      "File \u001b[1;32m~\\anaconda3\\Lib\\site-packages\\pypyodbc.py:1652\u001b[0m, in \u001b[0;36mCursor.execdirect\u001b[1;34m(self, query_string)\u001b[0m\n\u001b[0;32m   1650\u001b[0m     c_query_string \u001b[38;5;241m=\u001b[39m ctypes\u001b[38;5;241m.\u001b[39mc_char_p(query_string)\n\u001b[0;32m   1651\u001b[0m     ret \u001b[38;5;241m=\u001b[39m ODBC_API\u001b[38;5;241m.\u001b[39mSQLExecDirect(\u001b[38;5;28mself\u001b[39m\u001b[38;5;241m.\u001b[39mstmt_h, c_query_string, \u001b[38;5;28mlen\u001b[39m(query_string))\n\u001b[1;32m-> 1652\u001b[0m check_success(\u001b[38;5;28mself\u001b[39m, ret)\n\u001b[0;32m   1653\u001b[0m \u001b[38;5;28mself\u001b[39m\u001b[38;5;241m.\u001b[39m_NumOfRows()\n\u001b[0;32m   1654\u001b[0m \u001b[38;5;28mself\u001b[39m\u001b[38;5;241m.\u001b[39m_UpdateDesc()\n",
      "File \u001b[1;32m~\\anaconda3\\Lib\\site-packages\\pypyodbc.py:1007\u001b[0m, in \u001b[0;36mcheck_success\u001b[1;34m(ODBC_obj, ret)\u001b[0m\n\u001b[0;32m   1005\u001b[0m \u001b[38;5;28;01mif\u001b[39;00m ret \u001b[38;5;129;01mnot\u001b[39;00m \u001b[38;5;129;01min\u001b[39;00m (SQL_SUCCESS, SQL_SUCCESS_WITH_INFO, SQL_NO_DATA):\n\u001b[0;32m   1006\u001b[0m     \u001b[38;5;28;01mif\u001b[39;00m \u001b[38;5;28misinstance\u001b[39m(ODBC_obj, Cursor):\n\u001b[1;32m-> 1007\u001b[0m         ctrl_err(SQL_HANDLE_STMT, ODBC_obj\u001b[38;5;241m.\u001b[39mstmt_h, ret, ODBC_obj\u001b[38;5;241m.\u001b[39mansi)\n\u001b[0;32m   1008\u001b[0m     \u001b[38;5;28;01melif\u001b[39;00m \u001b[38;5;28misinstance\u001b[39m(ODBC_obj, Connection):\n\u001b[0;32m   1009\u001b[0m         ctrl_err(SQL_HANDLE_DBC, ODBC_obj\u001b[38;5;241m.\u001b[39mdbc_h, ret, ODBC_obj\u001b[38;5;241m.\u001b[39mansi)\n",
      "File \u001b[1;32m~\\anaconda3\\Lib\\site-packages\\pypyodbc.py:975\u001b[0m, in \u001b[0;36mctrl_err\u001b[1;34m(ht, h, val_ret, ansi)\u001b[0m\n\u001b[0;32m    973\u001b[0m err_text \u001b[38;5;241m=\u001b[39m raw_s(\u001b[38;5;124m'\u001b[39m\u001b[38;5;124m[\u001b[39m\u001b[38;5;124m'\u001b[39m)\u001b[38;5;241m+\u001b[39mstate\u001b[38;5;241m+\u001b[39mraw_s(\u001b[38;5;124m'\u001b[39m\u001b[38;5;124m] \u001b[39m\u001b[38;5;124m'\u001b[39m)\u001b[38;5;241m+\u001b[39merr_list[\u001b[38;5;241m0\u001b[39m][\u001b[38;5;241m1\u001b[39m]\n\u001b[0;32m    974\u001b[0m \u001b[38;5;28;01mif\u001b[39;00m state[:\u001b[38;5;241m2\u001b[39m] \u001b[38;5;129;01min\u001b[39;00m (raw_s(\u001b[38;5;124m'\u001b[39m\u001b[38;5;124m24\u001b[39m\u001b[38;5;124m'\u001b[39m),raw_s(\u001b[38;5;124m'\u001b[39m\u001b[38;5;124m25\u001b[39m\u001b[38;5;124m'\u001b[39m),raw_s(\u001b[38;5;124m'\u001b[39m\u001b[38;5;124m42\u001b[39m\u001b[38;5;124m'\u001b[39m)):\n\u001b[1;32m--> 975\u001b[0m     \u001b[38;5;28;01mraise\u001b[39;00m ProgrammingError(state,err_text)\n\u001b[0;32m    976\u001b[0m \u001b[38;5;28;01melif\u001b[39;00m state[:\u001b[38;5;241m2\u001b[39m] \u001b[38;5;129;01min\u001b[39;00m (raw_s(\u001b[38;5;124m'\u001b[39m\u001b[38;5;124m22\u001b[39m\u001b[38;5;124m'\u001b[39m)):\n\u001b[0;32m    977\u001b[0m     \u001b[38;5;28;01mraise\u001b[39;00m DataError(state,err_text)\n",
      "\u001b[1;31mProgrammingError\u001b[0m: ('42S01', \"[42S01] [Microsoft][ODBC Driver 18 for SQL Server][SQL Server]There is already an object named 'MyTable2' in the database.\")"
     ]
    }
   ],
   "source": [
    "create_table_sql = \"\"\"\n",
    "CREATE TABLE MyTable (\n",
    "    ID INT PRIMARY KEY,\n",
    "    Name NVARCHAR(50),\n",
    "    Age INT\n",
    ")\n",
    "\"\"\"\n",
    "\n",
    "cursor.execute(create_table_sql)\n",
    "conn.commit()"
   ]
  },
  {
   "cell_type": "code",
   "execution_count": 4,
   "id": "09bf5c47",
   "metadata": {},
   "outputs": [],
   "source": [
    "insert_table_sql = \"\"\"\n",
    "INSERT INTO MYTABLE(ID,NAME,AGE)\n",
    "VALUES\n",
    "(89,49,45);\n",
    "\"\"\"\n",
    "\n",
    "cursor.execute(insert_table_sql)\n",
    "conn.commit()"
   ]
  },
  {
   "cell_type": "code",
   "execution_count": null,
   "id": "ee4143ef",
   "metadata": {},
   "outputs": [],
   "source": [
    "cursor.close()\n",
    "conn.close()"
   ]
  },
  {
   "cell_type": "code",
   "execution_count": null,
   "id": "0b9b6fed",
   "metadata": {},
   "outputs": [],
   "source": []
  }
 ],
 "metadata": {
  "kernelspec": {
   "display_name": "Python 3 (ipykernel)",
   "language": "python",
   "name": "python3"
  },
  "language_info": {
   "codemirror_mode": {
    "name": "ipython",
    "version": 3
   },
   "file_extension": ".py",
   "mimetype": "text/x-python",
   "name": "python",
   "nbconvert_exporter": "python",
   "pygments_lexer": "ipython3",
   "version": "3.11.4"
  }
 },
 "nbformat": 4,
 "nbformat_minor": 5
}
